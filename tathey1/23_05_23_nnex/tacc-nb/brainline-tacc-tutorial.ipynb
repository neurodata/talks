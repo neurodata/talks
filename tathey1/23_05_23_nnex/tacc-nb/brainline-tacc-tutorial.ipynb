{
 "cells": [
  {
   "cell_type": "markdown",
   "id": "9598b4e2",
   "metadata": {},
   "source": [
    "# Setup on TACC\n",
    "\n",
    "In terminal:\n",
    "- Go to home directory: `cd ~/`\n",
    "- Make python venv: `python3 -m venv venv_39`\n",
    "- Go to scratch directory: `cds`\n",
    "- Clone brainlit: `git clone https://github.com/neurodata/brainlit.git`\n",
    "- Install in editable mode `cd brainlit && pip install -e .`\n",
    "- Make jupyter kernel for `venv_39` environment ([tutorial](https://queirozf.com/entries/jupyter-kernels-how-to-add-change-remove)) e.g. `pip install jupyter && ipython kernel install --name \"venv_39-home\" --user`\n",
    "\n",
    "In Jupyter Notebook:\n",
    "- Make sure kernel is the one you made for `venv_39` e.g. `venv_39-home`\n",
    "- Run code below"
   ]
  },
  {
   "cell_type": "code",
   "execution_count": null,
   "id": "4923f3fa",
   "metadata": {},
   "outputs": [],
   "source": [
    "%matplotlib inline\n",
    "from matplotlib import pyplot as plt\n",
    "from brainlit.BrainLine.util import (\n",
    "    json_to_points,\n",
    "    download_subvolumes,\n",
    ")\n",
    "from brainlit.BrainLine.apply_ilastik import (\n",
    "    ApplyIlastik,\n",
    "    ApplyIlastik_LargeImage,\n",
    "    plot_results,\n",
    "    examine_threshold,\n",
    ")\n",
    "from brainlit.BrainLine.analyze_results import SomaDistribution\n",
    "from brainlit.BrainLine.imports import *\n",
    "import json\n",
    "from matplotlib_scalebar.scalebar import ScaleBar\n",
    "from cloudvolume import CloudVolume"
   ]
  },
  {
   "cell_type": "markdown",
   "id": "65271f06",
   "metadata": {},
   "source": [
    "# Soma Detection Example\n",
    "### In this notebook we validate, process, and view results from a portion of an image"
   ]
  },
  {
   "cell_type": "code",
   "execution_count": null,
   "id": "40cc5c80",
   "metadata": {},
   "outputs": [],
   "source": [
    "brainlit_path = Path(\"/scratch/09423/tathey1/brainlit\")\n",
    "data_file = (\n",
    "    brainlit_path / \"docs\" / \"notebooks\" / \"pipelines\" / \"BrainLine\" / \"soma_data.json\"\n",
    ")\n",
    "# Modify base path of test sample according to your system\n",
    "with open(data_file, \"r\") as f:\n",
    "    data = json.load(f)\n",
    "\n",
    "data[\"brain2paths\"][\"test\"][\"base\"] = (\n",
    "    \"precomputed://file://\"\n",
    "    + str(\n",
    "        brainlit_path\n",
    "        / \"docs\"\n",
    "        / \"notebooks\"\n",
    "        / \"pipelines\"\n",
    "        / \"BrainLine\"\n",
    "        / \"example-data\"\n",
    "    )\n",
    "    + \"/\"\n",
    ")\n",
    "\n",
    "brain2paths = data[\"brain2paths\"]\n",
    "\n",
    "with open(data_file, \"w\") as f:\n",
    "    json.dump(data, f, indent=4)\n",
    "    \n",
    "brain = \"test\"  # brain ID\n",
    "soma_data_dir = (\n",
    "    str(\n",
    "        brainlit_path\n",
    "        / \"docs\"\n",
    "        / \"notebooks\"\n",
    "        / \"pipelines\"\n",
    "        / \"BrainLine\"\n",
    "        / \"validation-data\"\n",
    "        / \"soma\"\n",
    "    )\n",
    "    + \"/\"\n",
    ")  # path to directory where training/validation data should be stored\n",
    "antibody_layer, background_layer, endogenous_layer = \"antibody\", \"background\", \"endogenous\""
   ]
  },
  {
   "cell_type": "markdown",
   "id": "02f99701",
   "metadata": {},
   "source": [
    "# Download"
   ]
  },
  {
   "cell_type": "code",
   "execution_count": null,
   "id": "b172271e",
   "metadata": {},
   "outputs": [],
   "source": [
    "download_subvolumes(\n",
    "    soma_data_dir,\n",
    "    brain_id=brain,\n",
    "    data_file=data_file,\n",
    "    layer_names=[antibody_layer, background_layer, endogenous_layer],\n",
    "    dataset_to_save=\"val\",\n",
    ")"
   ]
  },
  {
   "cell_type": "markdown",
   "id": "02aedd12",
   "metadata": {},
   "source": [
    "# View [also possible in napari]"
   ]
  },
  {
   "cell_type": "code",
   "execution_count": null,
   "id": "3b203e71",
   "metadata": {
    "scrolled": true
   },
   "outputs": [],
   "source": [
    "fname = Path(soma_data_dir) / f\"brain{brain}\" / \"val\" / \"2062_1949_1824_pos.h5\"\n",
    "scale = [1.8, 1.8, 2]  # voxel size in microns\n",
    "\n",
    "with h5py.File(fname, \"r\") as f:\n",
    "    im = f.get(\"image_3channel\")\n",
    "    image_fg = im[0, :, :, :]\n",
    "    image_bg = im[1, :, :, :]\n",
    "    image_endo = im[2, :, :, :]\n",
    "    \n",
    "\n",
    "\n",
    "plt.imshow(np.amax(image_fg, axis=0), cmap='gray', vmin=0, vmax=np.amax(image_fg)-5000)\n",
    "\n",
    "\n",
    "scalebar = ScaleBar(0.3, \"um\")\n",
    "plt.gca().add_artist(scalebar)\n",
    "plt.show()"
   ]
  },
  {
   "cell_type": "markdown",
   "id": "50d82cbd",
   "metadata": {},
   "source": [
    "# Predict on Validation Data"
   ]
  },
  {
   "cell_type": "code",
   "execution_count": null,
   "id": "2569dd16",
   "metadata": {},
   "outputs": [],
   "source": [
    "ilastik_project = str(\n",
    "    brainlit_path\n",
    "    / Path(\"experiments/BrainLine/data/models/soma/matt_soma_rabies_pix_3ch.ilp\")\n",
    ")  # path to ilastik model to be used\n",
    "ilastik_path = \"/scratch/09423/tathey1/ilastik-1.4.0-Linux/run_ilastik.sh\"  # path to ilastik executable (see here: https://www.ilastik.org/documentation/basics/headless.html)\n",
    "brains = [brain]"
   ]
  },
  {
   "cell_type": "code",
   "execution_count": null,
   "id": "6999505e",
   "metadata": {},
   "outputs": [],
   "source": [
    "applyilastik = ApplyIlastik(\n",
    "    ilastik_path=ilastik_path,\n",
    "    project_path=ilastik_project,\n",
    "    brains_path=soma_data_dir,\n",
    "    brains=brains,\n",
    ")\n",
    "applyilastik.process_subvols(ncpu=6)"
   ]
  },
  {
   "cell_type": "code",
   "execution_count": null,
   "id": "f8d45b97",
   "metadata": {},
   "outputs": [],
   "source": [
    "fig, _, _ = plot_results(\n",
    "    data_dir=soma_data_dir,\n",
    "    brain_ids=[brain],\n",
    "    object_type=\"soma\",\n",
    "    positive_channel=0,\n",
    "    doubles=[],\n",
    ")\n",
    "plt.show()"
   ]
  },
  {
   "cell_type": "markdown",
   "id": "7f5ac4fc",
   "metadata": {},
   "source": [
    "# Predict Full Image"
   ]
  },
  {
   "cell_type": "code",
   "execution_count": null,
   "id": "7e68f642",
   "metadata": {},
   "outputs": [],
   "source": [
    "ilastik_largeimage = ApplyIlastik_LargeImage(\n",
    "    ilastik_path=ilastik_path,\n",
    "    ilastik_project=ilastik_project,\n",
    "    data_file=data_file,\n",
    "    results_dir=soma_data_dir + \"brainr_results/\",\n",
    "    ncpu=1,\n",
    ")\n",
    "ilastik_largeimage.apply_ilastik_parallel(\n",
    "    brain_id=brain,\n",
    "    layer_names=[antibody_layer, background_layer, endogenous_layer],\n",
    "    threshold=0.74,\n",
    "    data_dir=soma_data_dir + \"brainr_temp/\",\n",
    "    chunk_size=[100, 100, 100],\n",
    "    min_coords=[2000, 1900, 1800],\n",
    "    max_coords=[2100, 2000, 1900],\n",
    ")"
   ]
  },
  {
   "cell_type": "code",
   "execution_count": null,
   "id": "2f80ea5c",
   "metadata": {},
   "outputs": [],
   "source": [
    "results_txt = \"/scratch/09423/tathey1/brainlit/docs/notebooks/pipelines/BrainLine/validation-data/soma/brainr_results/image_2000_1900_1800_somas.txt\"\n",
    "with open(results_txt) as f:\n",
    "    lines = f.readlines()\n",
    "print(f\"{len(lines)-1} detected somas\")"
   ]
  },
  {
   "cell_type": "markdown",
   "id": "231d936e",
   "metadata": {},
   "source": [
    "# View results"
   ]
  },
  {
   "cell_type": "code",
   "execution_count": null,
   "id": "2ce9c653",
   "metadata": {},
   "outputs": [],
   "source": [
    "detection_idx = 0\n",
    "radius = 20\n",
    "\n",
    "vol = CloudVolume(\"precomputed://file:///scratch/09423/tathey1/brainlit/docs/notebooks/pipelines/BrainLine/example-data/antibody\", fill_missing=True)\n",
    "coord = lines[detection_idx].strip().replace(\" \",\"\")[1:-1].split(\",\")\n",
    "coord = [int(float(c)) for c in coord]\n",
    "im = vol[coord[0]-radius:coord[0]+radius,coord[1]-radius:coord[1]+radius,coord[2]-radius:coord[2]+radius]\n",
    "\n",
    "plt.imshow(np.amax(im, axis=0), cmap='gray', vmin=0, vmax = np.amax(im)-5000)\n",
    "scalebar = ScaleBar(0.3, \"um\")\n",
    "plt.gca().add_artist(scalebar)\n",
    "plt.show()"
   ]
  },
  {
   "cell_type": "markdown",
   "id": "50af74d8",
   "metadata": {},
   "source": [
    "# [Register and transform detected points with [CloudReg](https://cloudreg.neurodata.io/)]"
   ]
  },
  {
   "cell_type": "markdown",
   "id": "3eb34a97",
   "metadata": {},
   "source": [
    "# View Results [also possible in napari and brainrender]"
   ]
  },
  {
   "cell_type": "code",
   "execution_count": null,
   "id": "bd413032",
   "metadata": {},
   "outputs": [],
   "source": [
    "ontology_file = (\n",
    "    brainlit_path / \"brainlit\" / \"Brainline\" / \"data\" / \"ara_structure_ontology.json\"\n",
    ")\n",
    "sd = SomaDistribution(\n",
    "    brain_ids=[\"test\"], data_file=data_file, ontology_file=ontology_file\n",
    ")"
   ]
  },
  {
   "cell_type": "code",
   "execution_count": null,
   "id": "ce2a75a1",
   "metadata": {},
   "outputs": [],
   "source": [
    "f = sd.napari_coronal_section(\n",
    "    z=1073, subtype_colors={\"test_type\": \"red\"}, symbols=[\"o\", \"+\", \"^\", \"vbar\"], fold_on=False, plot_type=\"plt\"\n",
    ")\n",
    "plt.show()"
   ]
  },
  {
   "cell_type": "code",
   "execution_count": null,
   "id": "32b61976",
   "metadata": {},
   "outputs": [],
   "source": [
    "regions = [\n",
    "    512,  # cerebellum\n",
    "    688,  # cerebral cortex\n",
    "    698,  # olfactory areas\n",
    "    1089,  # hippocampal formation\n",
    "    # 583, # claustrum\n",
    "    477,  # striatum\n",
    "    # 803, # pallidum\n",
    "    351,  # bed nuclei of stria terminalis\n",
    "    # 703, #cortical subplate\n",
    "    1097,  # hypothalamus\n",
    "    549,  # thalamus\n",
    "    186,  # lateral habenula\n",
    "    519,  # cerebellar nuclei\n",
    "    313,  # midbrain\n",
    "    1065,  # hindbrain\n",
    "]  # allen atlas region IDs to be shown\n",
    "# see: https://connectivity.brain-map.org/projection/experiment/480074702?imageId=480075280&initImage=TWO_PHOTON&x=17028&y=11704&z=3\n",
    "\n",
    "composite_regions = {\n",
    "    \"Amygdalar Nuclei\": [131, 295, 319, 780]\n",
    "}  # Custom composite allen regions where key is region name and value is list of allen regions\n",
    "\n",
    "sd.region_barchart(regions, composite_regions=composite_regions, normalize_region=512)"
   ]
  },
  {
   "cell_type": "markdown",
   "id": "f065ac01",
   "metadata": {},
   "source": [
    "# Other visualization modes (when GUI environments are available e.g. locally)\n",
    "\n",
    "## Napari\n",
    "\n",
    "![napari](https://github.com/neurodata/brainlit/blob/develop/docs/notebooks/pipelines/BrainLine/images/napari-soma.png?raw=true)\n",
    "\n",
    "## Brainrender\n",
    "\n",
    "![brainrender](https://github.com/neurodata/brainlit/blob/develop/docs/notebooks/pipelines/BrainLine/images/brainrender-soma.png?raw=true)"
   ]
  },
  {
   "cell_type": "code",
   "execution_count": null,
   "id": "70c1e34c",
   "metadata": {},
   "outputs": [],
   "source": []
  }
 ],
 "metadata": {
  "kernelspec": {
   "display_name": "venv_39-home",
   "language": "python",
   "name": "venv_39-home"
  },
  "language_info": {
   "codemirror_mode": {
    "name": "ipython",
    "version": 3
   },
   "file_extension": ".py",
   "mimetype": "text/x-python",
   "name": "python",
   "nbconvert_exporter": "python",
   "pygments_lexer": "ipython3",
   "version": "3.9.7"
  }
 },
 "nbformat": 4,
 "nbformat_minor": 5
}
